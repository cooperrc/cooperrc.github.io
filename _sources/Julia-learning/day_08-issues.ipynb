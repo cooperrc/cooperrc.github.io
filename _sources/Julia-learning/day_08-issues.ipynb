{
 "cells": [
  {
   "cell_type": "markdown",
   "id": "0a299b37",
   "metadata": {},
   "source": [
    "# Day_08: Filing and tracking issues in GitHub\n",
    "\n",
    "Today I ran into some strange behavior when I tried to generalize my Lagrangian equations of motion. It boils down to something happening with Symbolic `Vectors`\n",
    "\n",
    "Take for example"
   ]
  },
  {
   "cell_type": "code",
   "execution_count": 8,
   "id": "92fcd7ef",
   "metadata": {},
   "outputs": [
    {
     "data": {
      "text/latex": [
       "\\begin{equation}\n",
       "0.5 \\left(  - \\mathrm{x_1}\\left( t \\right) + \\mathrm{x_2}\\left( t \\right) \\right)^{2} k\n",
       "\\end{equation}\n"
      ],
      "text/plain": [
       "0.5k*((x[2](t) - x[1](t))^2)"
      ]
     },
     "execution_count": 8,
     "metadata": {},
     "output_type": "execute_result"
    }
   ],
   "source": [
    "using Symbolics\n",
    "\n",
    "@variables t x[1:2](t) # independent and dependent variables\n",
    "@variables k # parameters\n",
    "\n",
    "Dx1 = Differential(x[1])\n",
    "Dx2 = Differential(x[2])\n",
    "\n",
    "V = 1/2*k*(x[2]- x[1])^2"
   ]
  },
  {
   "cell_type": "markdown",
   "id": "d14ae4db",
   "metadata": {},
   "source": [
    "I define a symbolic function `V` that is\n",
    "\n",
    "$\\frac{1}{2}\\left(x_2 - x_1\\right)^2$. \n",
    "\n",
    "Now, I take a derivative with respect to $x_1$\n",
    "\n",
    "$\\frac{\\partial L}{\\partial x_1} = -k(x_2 - x_1)$\n",
    "\n",
    "but instead I get"
   ]
  },
  {
   "cell_type": "code",
   "execution_count": 9,
   "id": "674173c9",
   "metadata": {},
   "outputs": [
    {
     "data": {
      "text/latex": [
       "\\begin{equation}\n",
       "0\n",
       "\\end{equation}\n"
      ],
      "text/plain": [
       "0"
      ]
     },
     "execution_count": 9,
     "metadata": {},
     "output_type": "execute_result"
    }
   ],
   "source": [
    "Symbolics.expand_derivatives(Dx1(V))"
   ]
  },
  {
   "cell_type": "markdown",
   "id": "e8315143",
   "metadata": {},
   "source": [
    "_Weird!_\n",
    "\n",
    "Expanding the polynomial there are 3 terms\n",
    "- $1/2 kx_1^2$\n",
    "- $1/2 kx_2^2$\n",
    "- $-kx_1x_2$\n",
    "\n",
    "So, I'll take derivatives of these terms and see what I get"
   ]
  },
  {
   "cell_type": "code",
   "execution_count": 12,
   "id": "6fbec088",
   "metadata": {},
   "outputs": [
    {
     "data": {
      "text/latex": [
       "\\begin{equation}\n",
       "\\left[\n",
       "\\begin{array}{c}\n",
       "0.5 \\left( \\mathrm{x_1}\\left( t \\right) \\right)^{2} k \\\\\n",
       "0.5 \\left( \\mathrm{x_2}\\left( t \\right) \\right)^{2} k \\\\\n",
       " - k \\mathrm{x_1}\\left( t \\right) \\mathrm{x_2}\\left( t \\right) \\\\\n",
       "\\end{array}\n",
       "\\right]\n",
       "\\end{equation}\n"
      ],
      "text/plain": [
       "3-element Vector{Num}:\n",
       "                  0.5k*(x[1](t)^2)\n",
       "                  0.5k*(x[2](t)^2)\n",
       " -k*x[1](t)*x[2](t)"
      ]
     },
     "execution_count": 12,
     "metadata": {},
     "output_type": "execute_result"
    }
   ],
   "source": [
    "Vterms = [1/2*k*x[1]^2,1/2*k*x[2]^2, -k*x[1]*x[2]]"
   ]
  },
  {
   "cell_type": "code",
   "execution_count": 13,
   "id": "292531c5",
   "metadata": {},
   "outputs": [
    {
     "data": {
      "text/latex": [
       "\\begin{equation}\n",
       "\\left[\n",
       "\\begin{array}{c}\n",
       "k \\mathrm{x_1}\\left( t \\right) \\\\\n",
       "k \\mathrm{x_2}\\left( t \\right) \\\\\n",
       " - k \\mathrm{x_1}\\left( t \\right) - k \\mathrm{x_2}\\left( t \\right) \\\\\n",
       "\\end{array}\n",
       "\\right]\n",
       "\\end{equation}\n"
      ],
      "text/plain": [
       "3-element Vector{Num}:\n",
       "              k*x[1](t)\n",
       "              k*x[2](t)\n",
       " -k*x[1](t) - k*x[2](t)"
      ]
     },
     "execution_count": 13,
     "metadata": {},
     "output_type": "execute_result"
    }
   ],
   "source": [
    "Symbolics.expand_derivatives.(Dx1.(Vterms))"
   ]
  },
  {
   "cell_type": "markdown",
   "id": "814c169b",
   "metadata": {},
   "source": [
    "Here is the root of my problem, for some reason the partial derivative `Differential(x[1])` is treating `x[1]` and `x[2]` as the same variable. The result should have been\n",
    "\n",
    "- $kx_1$\n",
    "- $0$\n",
    "- $-kx_2$\n",
    "\n",
    "\n",
    "## Unindexed variables work\n",
    "Now, I can compare this to an unindexed set of variables"
   ]
  },
  {
   "cell_type": "code",
   "execution_count": 15,
   "id": "425fe38c",
   "metadata": {},
   "outputs": [
    {
     "data": {
      "text/latex": [
       "\\begin{equation}\n",
       "0.5 \\left(  - \\mathrm{y1}\\left( t \\right) + \\mathrm{y2}\\left( t \\right) \\right)^{2} k\n",
       "\\end{equation}\n"
      ],
      "text/plain": [
       "0.5k*((y2(t) - y1(t))^2)"
      ]
     },
     "execution_count": 15,
     "metadata": {},
     "output_type": "execute_result"
    }
   ],
   "source": [
    "@variables t y1(t) y2(t) # independent and dependent variables\n",
    "@variables k # parameters\n",
    "\n",
    "Dy1 = Differential(y1)\n",
    "Dy2 = Differential(y2)\n",
    "\n",
    "V = 1/2*k*(y2- y1)^2"
   ]
  },
  {
   "cell_type": "code",
   "execution_count": 17,
   "id": "f99a49a8",
   "metadata": {},
   "outputs": [
    {
     "data": {
      "text/latex": [
       "\\begin{equation}\n",
       "0.5 k \\left( 2 \\mathrm{y1}\\left( t \\right) - 2 \\mathrm{y2}\\left( t \\right) \\right)\n",
       "\\end{equation}\n"
      ],
      "text/plain": [
       "0.5k*(2y1(t) - 2y2(t))"
      ]
     },
     "execution_count": 17,
     "metadata": {},
     "output_type": "execute_result"
    }
   ],
   "source": [
    "Symbolics.expand_derivatives(Dy1(V))"
   ]
  },
  {
   "cell_type": "markdown",
   "id": "b2563699",
   "metadata": {},
   "source": [
    "This returns the correct derivative, \n",
    "\n",
    "$\\frac{\\partial V}{\\partial y_1} = -k(y_2 - y_1)$"
   ]
  },
  {
   "cell_type": "code",
   "execution_count": 20,
   "id": "35250e48",
   "metadata": {},
   "outputs": [
    {
     "data": {
      "text/latex": [
       "\\begin{equation}\n",
       "\\left[\n",
       "\\begin{array}{c}\n",
       "\\mathrm{z\\_1}\\left( t \\right) \\\\\n",
       "\\end{array}\n",
       "\\right]\n",
       "\\end{equation}\n"
      ],
      "text/plain": [
       "1-element Vector{Num}:\n",
       " z_1(t)"
      ]
     },
     "execution_count": 20,
     "metadata": {},
     "output_type": "execute_result"
    }
   ],
   "source": [
    "@variables z_1(t)"
   ]
  },
  {
   "cell_type": "code",
   "execution_count": 22,
   "id": "17c7d235",
   "metadata": {},
   "outputs": [
    {
     "data": {
      "text/plain": [
       "(::Differential) (generic function with 2 methods)"
      ]
     },
     "execution_count": 22,
     "metadata": {},
     "output_type": "execute_result"
    }
   ],
   "source": [
    "D = Differential(t)"
   ]
  },
  {
   "cell_type": "code",
   "execution_count": 23,
   "id": "06f20be2",
   "metadata": {},
   "outputs": [
    {
     "data": {
      "text/plain": [
       "(broadcast(Differential(t), map(Symbolics.CallWith((t,)), x)))[1:2]"
      ]
     },
     "execution_count": 23,
     "metadata": {},
     "output_type": "execute_result"
    }
   ],
   "source": [
    "D.(x)"
   ]
  },
  {
   "cell_type": "code",
   "execution_count": 24,
   "id": "2868d8c6",
   "metadata": {},
   "outputs": [
    {
     "data": {
      "text/latex": [
       "\\begin{equation}\n",
       "\\left[\n",
       "\\begin{array}{c}\n",
       "\\frac{dy1(t)}{dt} \\\\\n",
       "\\frac{dy2(t)}{dt} \\\\\n",
       "\\end{array}\n",
       "\\right]\n",
       "\\end{equation}\n"
      ],
      "text/plain": [
       "2-element Vector{Num}:\n",
       " Differential(t)(y1(t))\n",
       " Differential(t)(y2(t))"
      ]
     },
     "execution_count": 24,
     "metadata": {},
     "output_type": "execute_result"
    }
   ],
   "source": [
    "D.([y1,y2])"
   ]
  },
  {
   "cell_type": "markdown",
   "id": "affb020f-100c-49c4-8d6f-8593a7be6b92",
   "metadata": {},
   "source": [
    "## Symbolics still adding support for arrays\n",
    "\n",
    "The Symbolics.jl package is incredible. Its still working on supporting differentiation with arrays. I filed this behavior on [github.com/Symbolics.jl issue #571](https://github.com/JuliaSymbolics/Symbolics.jl/issues/571). From what I can see, the main driver behind symbolic differentiation is in the [`diff.jl`](https://github.com/JuliaSymbolics/Symbolics.jl/blob/master/src/diff.jl) file. \n",
    "\n",
    "I was getting the error from line 58\n",
    "\n",
    "```julia\n",
    "    if symtype(expr) <: AbstractArray\n",
    "        error(\"Differentiation of expressions involving arrays and array variables is not yet supported.\")\n",
    "    end\n",
    "```\n",
    "\n",
    "but [@shashi](https://github.com/shashi) added some great exceptions that remove this error in [#570](https://github.com/JuliaSymbolics/Symbolics.jl/pull/570) and [#568](https://github.com/JuliaSymbolics/Symbolics.jl/pull/570). There is always more work to be done on projects like this and because Julia is open source, I can dig into the code, offer help and try to add my experiences to the solution. "
   ]
  },
  {
   "cell_type": "markdown",
   "id": "7c8687d1-91d3-42f2-9bc4-b497dd4868ac",
   "metadata": {},
   "source": [
    "## Wrapping up\n",
    "\n",
    "Today, I found some strange behavior in the Symbolics.jl package. I'll continue to update/add to the Julia projects as issues or hopefully merge some improvements. It would be great to document the process of a PR merge from start-to-finish. \n",
    "\n",
    "For now, the work-around appears to be that `jacobian` and `Differential` only support scalar values. So I can create a `Vector` of individual values as such\n",
    "\n",
    "```julia\n",
    "@variables x1(t) x2(t)\n",
    "x = [x1, x2]\n",
    "```\n",
    "\n",
    "The development behind Julia and Symbolics.jl is active and inspiring, so I'm sure this work-around won't need to exist much longer. "
   ]
  }
 ],
 "metadata": {
  "kernelspec": {
   "display_name": "Julia 1.7.2",
   "language": "julia",
   "name": "julia-1.7"
  },
  "language_info": {
   "file_extension": ".jl",
   "mimetype": "application/julia",
   "name": "julia",
   "version": "1.7.2"
  }
 },
 "nbformat": 4,
 "nbformat_minor": 5
}
